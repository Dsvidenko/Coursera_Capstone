{
 "cells": [
  {
   "cell_type": "markdown",
   "metadata": {},
   "source": [
    "# __Data Science Capstone Notebook__\n",
    "### _Daniel Svidenko_"
   ]
  },
  {
   "cell_type": "markdown",
   "metadata": {},
   "source": [
    "## Introduction/Business Problem"
   ]
  },
  {
   "cell_type": "markdown",
   "metadata": {},
   "source": [
    "Hypothetically, the owner of a successful chain business within Toronto is deciding whether to expand and open new locations in downtown New York or Paris. Logically, opening locations in a place with similar venues is more likely to replicate the local success of the business in Toronto."
   ]
  },
  {
   "cell_type": "markdown",
   "metadata": {},
   "source": [
    "Problem: Are the venues in downtown New York or Paris more similar to the venues of downtown Toronto?"
   ]
  },
  {
   "cell_type": "markdown",
   "metadata": {},
   "source": [
    "## Data Selection"
   ]
  },
  {
   "cell_type": "markdown",
   "metadata": {},
   "source": [
    "The data that will be leveraged to solve this problem is Foursquare the venue location data for downtown Toronto, Paris, and New York. The coordinate locations of the downtown areas of the cities will be retrieved from Google Street Maps. The valueable features that can be retrieved from the Foursquare dataset are the categories of the top 100 venues in the downtown of each city."
   ]
  },
  {
   "cell_type": "markdown",
   "metadata": {},
   "source": [
    "Imports and installations:"
   ]
  },
  {
   "cell_type": "code",
   "execution_count": 167,
   "metadata": {},
   "outputs": [
    {
     "name": "stdout",
     "output_type": "stream",
     "text": [
      "Collecting package metadata (current_repodata.json): done\n",
      "Solving environment: done\n",
      "\n",
      "# All requested packages already installed.\n",
      "\n"
     ]
    }
   ],
   "source": [
    "\n",
    "import requests # library to handle requests\n",
    "import pandas as pd # library for data analsysis\n",
    "import numpy as np # library to handle data in a vectorized manner\n",
    "import random # library for random number generation\n",
    "\n",
    "!conda install -c conda-forge geopy --yes \n",
    "    \n",
    "# tranforming json file into a pandas dataframe library\n",
    "from pandas.io.json import json_normalize\n"
   ]
  },
  {
   "cell_type": "markdown",
   "metadata": {},
   "source": [
    "Storing coordinates of Toronto, New York and Paris:"
   ]
  },
  {
   "cell_type": "code",
   "execution_count": 89,
   "metadata": {},
   "outputs": [],
   "source": [
    "torontoloc = [43.6548, -79.3883]\n",
    "nyloc = [40.7128, -74.0060]\n",
    "parisloc = [48.864716, 2.349014]\n",
    "londonloc=[51.5074,-0.1278]\n",
    "locs = [parisloc, nyloc, torontoloc]\n",
    "names = ['Paris', 'New York', 'Toronto']\n",
    "latitudes = [locs[0][0],locs[1][0],locs[2][0]]\n",
    "longitudes = [locs[0][1],locs[1][1],locs[2][1]]"
   ]
  },
  {
   "cell_type": "markdown",
   "metadata": {},
   "source": [
    "Setting up Foursquare credentials:"
   ]
  },
  {
   "cell_type": "code",
   "execution_count": 118,
   "metadata": {},
   "outputs": [],
   "source": [
    "CLIENT_ID = 'WDPS1AL4CKYJKHFBWQ3SKDCUYT0PJBBXPHCSOGKFRBNJMX32'\n",
    "CLIENT_SECRET = 'D1G5OSUFZTBZFG3ELNKNVPOXZLZEXJSJG4TAVMCODPIPZDHR'\n",
    "VERSION = '20180605'\n",
    "LIMIT=100"
   ]
  },
  {
   "cell_type": "markdown",
   "metadata": {},
   "source": [
    "Defining method to retreive nearby venues:"
   ]
  },
  {
   "cell_type": "code",
   "execution_count": 119,
   "metadata": {},
   "outputs": [],
   "source": [
    "def getNearbyVenues(names, latitudes, longitudes, radius=1000):\n",
    "    \n",
    "    venues_list=[]\n",
    "    for name, lat, lng in zip(names, latitudes, longitudes):\n",
    "        print(name)\n",
    "        url = 'https://api.foursquare.com/v2/venues/explore?&client_id={}&client_secret={}&v={}&ll={},{}&radius={}&limit={}'.format(\n",
    "            CLIENT_ID, CLIENT_SECRET, VERSION, lat, lng, radius, LIMIT)\n",
    "        \n",
    "        results = requests.get(url).json()[\"response\"]['groups'][0]['items']\n",
    "        venues_list.append([( name, lat, lng, v['venue']['name'], v['venue']['location']['lat'], v['venue']['location']['lng'], v['venue']['categories'][0]['name']) for v in results])\n",
    "\n",
    "    nearby_venues = pd.DataFrame([item for venue_list in venues_list for item in venue_list])\n",
    "    nearby_venues.columns = ['City', 'Latitude', 'Longitude', 'Venue', 'Venue Latitude', 'Venue Longitude', 'Venue Category']\n",
    "    \n",
    "    return(nearby_venues)"
   ]
  },
  {
   "cell_type": "code",
   "execution_count": 120,
   "metadata": {},
   "outputs": [
    {
     "name": "stdout",
     "output_type": "stream",
     "text": [
      "Paris\n",
      "New York\n",
      "Toronto\n"
     ]
    }
   ],
   "source": [
    "venues_df=getNearbyVenues(names,latitudes,longitudes)"
   ]
  },
  {
   "cell_type": "code",
   "execution_count": 122,
   "metadata": {},
   "outputs": [
    {
     "data": {
      "text/html": [
       "<div>\n",
       "<style scoped>\n",
       "    .dataframe tbody tr th:only-of-type {\n",
       "        vertical-align: middle;\n",
       "    }\n",
       "\n",
       "    .dataframe tbody tr th {\n",
       "        vertical-align: top;\n",
       "    }\n",
       "\n",
       "    .dataframe thead th {\n",
       "        text-align: right;\n",
       "    }\n",
       "</style>\n",
       "<table border=\"1\" class=\"dataframe\">\n",
       "  <thead>\n",
       "    <tr style=\"text-align: right;\">\n",
       "      <th></th>\n",
       "      <th>City</th>\n",
       "      <th>Latitude</th>\n",
       "      <th>Longitude</th>\n",
       "      <th>Venue</th>\n",
       "      <th>Venue Latitude</th>\n",
       "      <th>Venue Longitude</th>\n",
       "      <th>Venue Category</th>\n",
       "    </tr>\n",
       "  </thead>\n",
       "  <tbody>\n",
       "    <tr>\n",
       "      <th>0</th>\n",
       "      <td>Paris</td>\n",
       "      <td>48.864716</td>\n",
       "      <td>2.349014</td>\n",
       "      <td>Passage du Grand Cerf</td>\n",
       "      <td>48.864760</td>\n",
       "      <td>2.349486</td>\n",
       "      <td>Pedestrian Plaza</td>\n",
       "    </tr>\n",
       "    <tr>\n",
       "      <th>1</th>\n",
       "      <td>Paris</td>\n",
       "      <td>48.864716</td>\n",
       "      <td>2.349014</td>\n",
       "      <td>Redd</td>\n",
       "      <td>48.866237</td>\n",
       "      <td>2.347772</td>\n",
       "      <td>Wine Bar</td>\n",
       "    </tr>\n",
       "    <tr>\n",
       "      <th>2</th>\n",
       "      <td>Paris</td>\n",
       "      <td>48.864716</td>\n",
       "      <td>2.349014</td>\n",
       "      <td>Spa Nuxe</td>\n",
       "      <td>48.864017</td>\n",
       "      <td>2.346650</td>\n",
       "      <td>Spa</td>\n",
       "    </tr>\n",
       "    <tr>\n",
       "      <th>3</th>\n",
       "      <td>Paris</td>\n",
       "      <td>48.864716</td>\n",
       "      <td>2.349014</td>\n",
       "      <td>Ma Cave Fleury</td>\n",
       "      <td>48.865505</td>\n",
       "      <td>2.350544</td>\n",
       "      <td>Wine Bar</td>\n",
       "    </tr>\n",
       "    <tr>\n",
       "      <th>4</th>\n",
       "      <td>Paris</td>\n",
       "      <td>48.864716</td>\n",
       "      <td>2.349014</td>\n",
       "      <td>Raviolis Chinois Nord-Est</td>\n",
       "      <td>48.862851</td>\n",
       "      <td>2.349547</td>\n",
       "      <td>Chinese Restaurant</td>\n",
       "    </tr>\n",
       "  </tbody>\n",
       "</table>\n",
       "</div>"
      ],
      "text/plain": [
       "    City   Latitude  Longitude                      Venue  Venue Latitude  \\\n",
       "0  Paris  48.864716   2.349014      Passage du Grand Cerf       48.864760   \n",
       "1  Paris  48.864716   2.349014                       Redd       48.866237   \n",
       "2  Paris  48.864716   2.349014                   Spa Nuxe       48.864017   \n",
       "3  Paris  48.864716   2.349014             Ma Cave Fleury       48.865505   \n",
       "4  Paris  48.864716   2.349014  Raviolis Chinois Nord-Est       48.862851   \n",
       "\n",
       "   Venue Longitude      Venue Category  \n",
       "0         2.349486    Pedestrian Plaza  \n",
       "1         2.347772            Wine Bar  \n",
       "2         2.346650                 Spa  \n",
       "3         2.350544            Wine Bar  \n",
       "4         2.349547  Chinese Restaurant  "
      ]
     },
     "execution_count": 122,
     "metadata": {},
     "output_type": "execute_result"
    }
   ],
   "source": [
    "venues_df.shape\n",
    "venues_df.head()"
   ]
  },
  {
   "cell_type": "markdown",
   "metadata": {},
   "source": [
    "## Methodology\n",
    "Now that the necessary data has been collected, it is time to process it and analyze it.\n",
    "\n",
    "I will begin by grouping the data by city using .count(), as well as determining the number of unique venue categories, to get a better idea of the data I will be working with.\n",
    "\n",
    "Next, I will one-hot encode the data using the Pandas get_dummies() function and group the resulting dataframe by city using .mean(). This will yield a dataframe with one row per city and one column for each unique category of venue with the numbers in the cells being the mean occurence of venues in that category per city.\n",
    "\n",
    "Finally, I will transform the dataframe into a numpy array and use the scipy pdist() function to calculate the dissimilarity between the New York and Paris data to the Toronto data using euclidean distance. I will present a table with the dissimilarity values of New York/Paris to Toronto."
   ]
  },
  {
   "cell_type": "code",
   "execution_count": 169,
   "metadata": {},
   "outputs": [
    {
     "data": {
      "text/html": [
       "<div>\n",
       "<style scoped>\n",
       "    .dataframe tbody tr th:only-of-type {\n",
       "        vertical-align: middle;\n",
       "    }\n",
       "\n",
       "    .dataframe tbody tr th {\n",
       "        vertical-align: top;\n",
       "    }\n",
       "\n",
       "    .dataframe thead th {\n",
       "        text-align: right;\n",
       "    }\n",
       "</style>\n",
       "<table border=\"1\" class=\"dataframe\">\n",
       "  <thead>\n",
       "    <tr style=\"text-align: right;\">\n",
       "      <th></th>\n",
       "      <th>Latitude</th>\n",
       "      <th>Longitude</th>\n",
       "      <th>Venue</th>\n",
       "      <th>Venue Latitude</th>\n",
       "      <th>Venue Longitude</th>\n",
       "      <th>Venue Category</th>\n",
       "    </tr>\n",
       "    <tr>\n",
       "      <th>City</th>\n",
       "      <th></th>\n",
       "      <th></th>\n",
       "      <th></th>\n",
       "      <th></th>\n",
       "      <th></th>\n",
       "      <th></th>\n",
       "    </tr>\n",
       "  </thead>\n",
       "  <tbody>\n",
       "    <tr>\n",
       "      <th>New York</th>\n",
       "      <td>100</td>\n",
       "      <td>100</td>\n",
       "      <td>100</td>\n",
       "      <td>100</td>\n",
       "      <td>100</td>\n",
       "      <td>100</td>\n",
       "    </tr>\n",
       "    <tr>\n",
       "      <th>Paris</th>\n",
       "      <td>100</td>\n",
       "      <td>100</td>\n",
       "      <td>100</td>\n",
       "      <td>100</td>\n",
       "      <td>100</td>\n",
       "      <td>100</td>\n",
       "    </tr>\n",
       "    <tr>\n",
       "      <th>Toronto</th>\n",
       "      <td>100</td>\n",
       "      <td>100</td>\n",
       "      <td>100</td>\n",
       "      <td>100</td>\n",
       "      <td>100</td>\n",
       "      <td>100</td>\n",
       "    </tr>\n",
       "  </tbody>\n",
       "</table>\n",
       "</div>"
      ],
      "text/plain": [
       "          Latitude  Longitude  Venue  Venue Latitude  Venue Longitude  \\\n",
       "City                                                                    \n",
       "New York       100        100    100             100              100   \n",
       "Paris          100        100    100             100              100   \n",
       "Toronto        100        100    100             100              100   \n",
       "\n",
       "          Venue Category  \n",
       "City                      \n",
       "New York             100  \n",
       "Paris                100  \n",
       "Toronto              100  "
      ]
     },
     "execution_count": 169,
     "metadata": {},
     "output_type": "execute_result"
    }
   ],
   "source": [
    "venues_df.groupby('City').count()"
   ]
  },
  {
   "cell_type": "code",
   "execution_count": 124,
   "metadata": {},
   "outputs": [
    {
     "name": "stdout",
     "output_type": "stream",
     "text": [
      "There are 123 unique categories.\n"
     ]
    }
   ],
   "source": [
    "print('There are {} unique categories.'.format(len(venues_df['Venue Category'].unique())))"
   ]
  },
  {
   "cell_type": "markdown",
   "metadata": {},
   "source": [
    "One-hot encoding the venue categories:"
   ]
  },
  {
   "cell_type": "code",
   "execution_count": 125,
   "metadata": {},
   "outputs": [
    {
     "name": "stdout",
     "output_type": "stream",
     "text": [
      "(300, 124)\n"
     ]
    },
    {
     "data": {
      "text/html": [
       "<div>\n",
       "<style scoped>\n",
       "    .dataframe tbody tr th:only-of-type {\n",
       "        vertical-align: middle;\n",
       "    }\n",
       "\n",
       "    .dataframe tbody tr th {\n",
       "        vertical-align: top;\n",
       "    }\n",
       "\n",
       "    .dataframe thead th {\n",
       "        text-align: right;\n",
       "    }\n",
       "</style>\n",
       "<table border=\"1\" class=\"dataframe\">\n",
       "  <thead>\n",
       "    <tr style=\"text-align: right;\">\n",
       "      <th></th>\n",
       "      <th>City</th>\n",
       "      <th>American Restaurant</th>\n",
       "      <th>Art Gallery</th>\n",
       "      <th>Art Museum</th>\n",
       "      <th>Arts &amp; Crafts Store</th>\n",
       "      <th>Asian Restaurant</th>\n",
       "      <th>Auditorium</th>\n",
       "      <th>Australian Restaurant</th>\n",
       "      <th>Bagel Shop</th>\n",
       "      <th>Bakery</th>\n",
       "      <th>...</th>\n",
       "      <th>Thai Restaurant</th>\n",
       "      <th>Theater</th>\n",
       "      <th>Toy / Game Store</th>\n",
       "      <th>University</th>\n",
       "      <th>Vegetarian / Vegan Restaurant</th>\n",
       "      <th>Vietnamese Restaurant</th>\n",
       "      <th>Wine Bar</th>\n",
       "      <th>Wine Shop</th>\n",
       "      <th>Women's Store</th>\n",
       "      <th>Yoga Studio</th>\n",
       "    </tr>\n",
       "  </thead>\n",
       "  <tbody>\n",
       "    <tr>\n",
       "      <th>0</th>\n",
       "      <td>Paris</td>\n",
       "      <td>0</td>\n",
       "      <td>0</td>\n",
       "      <td>0</td>\n",
       "      <td>0</td>\n",
       "      <td>0</td>\n",
       "      <td>0</td>\n",
       "      <td>0</td>\n",
       "      <td>0</td>\n",
       "      <td>0</td>\n",
       "      <td>...</td>\n",
       "      <td>0</td>\n",
       "      <td>0</td>\n",
       "      <td>0</td>\n",
       "      <td>0</td>\n",
       "      <td>0</td>\n",
       "      <td>0</td>\n",
       "      <td>0</td>\n",
       "      <td>0</td>\n",
       "      <td>0</td>\n",
       "      <td>0</td>\n",
       "    </tr>\n",
       "    <tr>\n",
       "      <th>1</th>\n",
       "      <td>Paris</td>\n",
       "      <td>0</td>\n",
       "      <td>0</td>\n",
       "      <td>0</td>\n",
       "      <td>0</td>\n",
       "      <td>0</td>\n",
       "      <td>0</td>\n",
       "      <td>0</td>\n",
       "      <td>0</td>\n",
       "      <td>0</td>\n",
       "      <td>...</td>\n",
       "      <td>0</td>\n",
       "      <td>0</td>\n",
       "      <td>0</td>\n",
       "      <td>0</td>\n",
       "      <td>0</td>\n",
       "      <td>0</td>\n",
       "      <td>1</td>\n",
       "      <td>0</td>\n",
       "      <td>0</td>\n",
       "      <td>0</td>\n",
       "    </tr>\n",
       "    <tr>\n",
       "      <th>2</th>\n",
       "      <td>Paris</td>\n",
       "      <td>0</td>\n",
       "      <td>0</td>\n",
       "      <td>0</td>\n",
       "      <td>0</td>\n",
       "      <td>0</td>\n",
       "      <td>0</td>\n",
       "      <td>0</td>\n",
       "      <td>0</td>\n",
       "      <td>0</td>\n",
       "      <td>...</td>\n",
       "      <td>0</td>\n",
       "      <td>0</td>\n",
       "      <td>0</td>\n",
       "      <td>0</td>\n",
       "      <td>0</td>\n",
       "      <td>0</td>\n",
       "      <td>0</td>\n",
       "      <td>0</td>\n",
       "      <td>0</td>\n",
       "      <td>0</td>\n",
       "    </tr>\n",
       "    <tr>\n",
       "      <th>3</th>\n",
       "      <td>Paris</td>\n",
       "      <td>0</td>\n",
       "      <td>0</td>\n",
       "      <td>0</td>\n",
       "      <td>0</td>\n",
       "      <td>0</td>\n",
       "      <td>0</td>\n",
       "      <td>0</td>\n",
       "      <td>0</td>\n",
       "      <td>0</td>\n",
       "      <td>...</td>\n",
       "      <td>0</td>\n",
       "      <td>0</td>\n",
       "      <td>0</td>\n",
       "      <td>0</td>\n",
       "      <td>0</td>\n",
       "      <td>0</td>\n",
       "      <td>1</td>\n",
       "      <td>0</td>\n",
       "      <td>0</td>\n",
       "      <td>0</td>\n",
       "    </tr>\n",
       "    <tr>\n",
       "      <th>4</th>\n",
       "      <td>Paris</td>\n",
       "      <td>0</td>\n",
       "      <td>0</td>\n",
       "      <td>0</td>\n",
       "      <td>0</td>\n",
       "      <td>0</td>\n",
       "      <td>0</td>\n",
       "      <td>0</td>\n",
       "      <td>0</td>\n",
       "      <td>0</td>\n",
       "      <td>...</td>\n",
       "      <td>0</td>\n",
       "      <td>0</td>\n",
       "      <td>0</td>\n",
       "      <td>0</td>\n",
       "      <td>0</td>\n",
       "      <td>0</td>\n",
       "      <td>0</td>\n",
       "      <td>0</td>\n",
       "      <td>0</td>\n",
       "      <td>0</td>\n",
       "    </tr>\n",
       "  </tbody>\n",
       "</table>\n",
       "<p>5 rows × 124 columns</p>\n",
       "</div>"
      ],
      "text/plain": [
       "    City  American Restaurant  Art Gallery  Art Museum  Arts & Crafts Store  \\\n",
       "0  Paris                    0            0           0                    0   \n",
       "1  Paris                    0            0           0                    0   \n",
       "2  Paris                    0            0           0                    0   \n",
       "3  Paris                    0            0           0                    0   \n",
       "4  Paris                    0            0           0                    0   \n",
       "\n",
       "   Asian Restaurant  Auditorium  Australian Restaurant  Bagel Shop  Bakery  \\\n",
       "0                 0           0                      0           0       0   \n",
       "1                 0           0                      0           0       0   \n",
       "2                 0           0                      0           0       0   \n",
       "3                 0           0                      0           0       0   \n",
       "4                 0           0                      0           0       0   \n",
       "\n",
       "   ...  Thai Restaurant  Theater  Toy / Game Store  University  \\\n",
       "0  ...                0        0                 0           0   \n",
       "1  ...                0        0                 0           0   \n",
       "2  ...                0        0                 0           0   \n",
       "3  ...                0        0                 0           0   \n",
       "4  ...                0        0                 0           0   \n",
       "\n",
       "   Vegetarian / Vegan Restaurant  Vietnamese Restaurant  Wine Bar  Wine Shop  \\\n",
       "0                              0                      0         0          0   \n",
       "1                              0                      0         1          0   \n",
       "2                              0                      0         0          0   \n",
       "3                              0                      0         1          0   \n",
       "4                              0                      0         0          0   \n",
       "\n",
       "   Women's Store  Yoga Studio  \n",
       "0              0            0  \n",
       "1              0            0  \n",
       "2              0            0  \n",
       "3              0            0  \n",
       "4              0            0  \n",
       "\n",
       "[5 rows x 124 columns]"
      ]
     },
     "execution_count": 125,
     "metadata": {},
     "output_type": "execute_result"
    }
   ],
   "source": [
    "onehot = pd.get_dummies(venues_df[['Venue Category']], prefix=\"\", prefix_sep=\"\")\n",
    "onehot['City'] = venues_df['City'] \n",
    "fixed_columns = [onehot.columns[-1]] + list(onehot.columns[:-1])\n",
    "onehot = onehot[fixed_columns]\n",
    "print(onehot.shape)\n",
    "onehot.head()"
   ]
  },
  {
   "cell_type": "markdown",
   "metadata": {},
   "source": [
    "Grouping the onehot dataframe by city with mean occurences of categories:"
   ]
  },
  {
   "cell_type": "code",
   "execution_count": 164,
   "metadata": {},
   "outputs": [],
   "source": [
    "venues_grouped=onehot.groupby('City').mean().reset_index()"
   ]
  },
  {
   "cell_type": "code",
   "execution_count": 165,
   "metadata": {},
   "outputs": [
    {
     "data": {
      "text/html": [
       "<div>\n",
       "<style scoped>\n",
       "    .dataframe tbody tr th:only-of-type {\n",
       "        vertical-align: middle;\n",
       "    }\n",
       "\n",
       "    .dataframe tbody tr th {\n",
       "        vertical-align: top;\n",
       "    }\n",
       "\n",
       "    .dataframe thead th {\n",
       "        text-align: right;\n",
       "    }\n",
       "</style>\n",
       "<table border=\"1\" class=\"dataframe\">\n",
       "  <thead>\n",
       "    <tr style=\"text-align: right;\">\n",
       "      <th></th>\n",
       "      <th>City</th>\n",
       "      <th>American Restaurant</th>\n",
       "      <th>Art Gallery</th>\n",
       "      <th>Art Museum</th>\n",
       "      <th>Arts &amp; Crafts Store</th>\n",
       "      <th>Asian Restaurant</th>\n",
       "      <th>Auditorium</th>\n",
       "      <th>Australian Restaurant</th>\n",
       "      <th>Bagel Shop</th>\n",
       "      <th>Bakery</th>\n",
       "      <th>...</th>\n",
       "      <th>Thai Restaurant</th>\n",
       "      <th>Theater</th>\n",
       "      <th>Toy / Game Store</th>\n",
       "      <th>University</th>\n",
       "      <th>Vegetarian / Vegan Restaurant</th>\n",
       "      <th>Vietnamese Restaurant</th>\n",
       "      <th>Wine Bar</th>\n",
       "      <th>Wine Shop</th>\n",
       "      <th>Women's Store</th>\n",
       "      <th>Yoga Studio</th>\n",
       "    </tr>\n",
       "  </thead>\n",
       "  <tbody>\n",
       "    <tr>\n",
       "      <th>0</th>\n",
       "      <td>New York</td>\n",
       "      <td>0.02</td>\n",
       "      <td>0.00</td>\n",
       "      <td>0.00</td>\n",
       "      <td>0.00</td>\n",
       "      <td>0.01</td>\n",
       "      <td>0.01</td>\n",
       "      <td>0.01</td>\n",
       "      <td>0.01</td>\n",
       "      <td>0.01</td>\n",
       "      <td>...</td>\n",
       "      <td>0.00</td>\n",
       "      <td>0.00</td>\n",
       "      <td>0.00</td>\n",
       "      <td>0.00</td>\n",
       "      <td>0.01</td>\n",
       "      <td>0.00</td>\n",
       "      <td>0.00</td>\n",
       "      <td>0.03</td>\n",
       "      <td>0.01</td>\n",
       "      <td>0.02</td>\n",
       "    </tr>\n",
       "    <tr>\n",
       "      <th>1</th>\n",
       "      <td>Paris</td>\n",
       "      <td>0.00</td>\n",
       "      <td>0.02</td>\n",
       "      <td>0.01</td>\n",
       "      <td>0.00</td>\n",
       "      <td>0.00</td>\n",
       "      <td>0.00</td>\n",
       "      <td>0.00</td>\n",
       "      <td>0.00</td>\n",
       "      <td>0.08</td>\n",
       "      <td>...</td>\n",
       "      <td>0.01</td>\n",
       "      <td>0.00</td>\n",
       "      <td>0.01</td>\n",
       "      <td>0.00</td>\n",
       "      <td>0.01</td>\n",
       "      <td>0.01</td>\n",
       "      <td>0.03</td>\n",
       "      <td>0.00</td>\n",
       "      <td>0.01</td>\n",
       "      <td>0.00</td>\n",
       "    </tr>\n",
       "    <tr>\n",
       "      <th>2</th>\n",
       "      <td>Toronto</td>\n",
       "      <td>0.01</td>\n",
       "      <td>0.01</td>\n",
       "      <td>0.01</td>\n",
       "      <td>0.02</td>\n",
       "      <td>0.01</td>\n",
       "      <td>0.00</td>\n",
       "      <td>0.00</td>\n",
       "      <td>0.00</td>\n",
       "      <td>0.01</td>\n",
       "      <td>...</td>\n",
       "      <td>0.02</td>\n",
       "      <td>0.03</td>\n",
       "      <td>0.00</td>\n",
       "      <td>0.01</td>\n",
       "      <td>0.02</td>\n",
       "      <td>0.01</td>\n",
       "      <td>0.00</td>\n",
       "      <td>0.00</td>\n",
       "      <td>0.00</td>\n",
       "      <td>0.01</td>\n",
       "    </tr>\n",
       "  </tbody>\n",
       "</table>\n",
       "<p>3 rows × 124 columns</p>\n",
       "</div>"
      ],
      "text/plain": [
       "       City  American Restaurant  Art Gallery  Art Museum  \\\n",
       "0  New York                 0.02         0.00        0.00   \n",
       "1     Paris                 0.00         0.02        0.01   \n",
       "2   Toronto                 0.01         0.01        0.01   \n",
       "\n",
       "   Arts & Crafts Store  Asian Restaurant  Auditorium  Australian Restaurant  \\\n",
       "0                 0.00              0.01        0.01                   0.01   \n",
       "1                 0.00              0.00        0.00                   0.00   \n",
       "2                 0.02              0.01        0.00                   0.00   \n",
       "\n",
       "   Bagel Shop  Bakery  ...  Thai Restaurant  Theater  Toy / Game Store  \\\n",
       "0        0.01    0.01  ...             0.00     0.00              0.00   \n",
       "1        0.00    0.08  ...             0.01     0.00              0.01   \n",
       "2        0.00    0.01  ...             0.02     0.03              0.00   \n",
       "\n",
       "   University  Vegetarian / Vegan Restaurant  Vietnamese Restaurant  Wine Bar  \\\n",
       "0        0.00                           0.01                   0.00      0.00   \n",
       "1        0.00                           0.01                   0.01      0.03   \n",
       "2        0.01                           0.02                   0.01      0.00   \n",
       "\n",
       "   Wine Shop  Women's Store  Yoga Studio  \n",
       "0       0.03           0.01         0.02  \n",
       "1       0.00           0.01         0.00  \n",
       "2       0.00           0.00         0.01  \n",
       "\n",
       "[3 rows x 124 columns]"
      ]
     },
     "execution_count": 165,
     "metadata": {},
     "output_type": "execute_result"
    }
   ],
   "source": [
    "venues_grouped.head()"
   ]
  },
  {
   "cell_type": "markdown",
   "metadata": {},
   "source": [
    "Turning the dataframe into a numpy array to prepare it for analysis:"
   ]
  },
  {
   "cell_type": "code",
   "execution_count": 133,
   "metadata": {},
   "outputs": [
    {
     "data": {
      "text/plain": [
       "array([[0.02, 0.  , 0.  , 0.  , 0.01, 0.01, 0.01, 0.01, 0.01, 0.  , 0.  ,\n",
       "        0.01, 0.  , 0.  , 0.01, 0.  , 0.01, 0.02, 0.  , 0.04, 0.01, 0.  ,\n",
       "        0.03, 0.09, 0.  , 0.01, 0.  , 0.  , 0.02, 0.01, 0.  , 0.  , 0.01,\n",
       "        0.  , 0.01, 0.03, 0.01, 0.  , 0.02, 0.01, 0.  , 0.  , 0.  , 0.01,\n",
       "        0.01, 0.  , 0.01, 0.02, 0.03, 0.01, 0.  , 0.03, 0.01, 0.02, 0.  ,\n",
       "        0.01, 0.  , 0.  , 0.  , 0.01, 0.01, 0.  , 0.01, 0.  , 0.  , 0.  ,\n",
       "        0.03, 0.  , 0.  , 0.  , 0.  , 0.01, 0.01, 0.  , 0.  , 0.  , 0.  ,\n",
       "        0.02, 0.  , 0.02, 0.  , 0.01, 0.01, 0.03, 0.  , 0.  , 0.  , 0.02,\n",
       "        0.02, 0.01, 0.  , 0.  , 0.  , 0.  , 0.01, 0.  , 0.02, 0.01, 0.  ,\n",
       "        0.01, 0.  , 0.01, 0.  , 0.  , 0.  , 0.02, 0.01, 0.01, 0.02, 0.  ,\n",
       "        0.01, 0.  , 0.  , 0.  , 0.  , 0.  , 0.  , 0.01, 0.  , 0.  , 0.03,\n",
       "        0.01, 0.02],\n",
       "       [0.  , 0.02, 0.01, 0.  , 0.  , 0.  , 0.  , 0.  , 0.08, 0.04, 0.01,\n",
       "        0.01, 0.01, 0.  , 0.  , 0.01, 0.  , 0.  , 0.  , 0.  , 0.04, 0.  ,\n",
       "        0.03, 0.04, 0.01, 0.  , 0.01, 0.  , 0.  , 0.  , 0.01, 0.  , 0.  ,\n",
       "        0.01, 0.  , 0.  , 0.  , 0.  , 0.11, 0.  , 0.  , 0.01, 0.01, 0.  ,\n",
       "        0.01, 0.01, 0.  , 0.01, 0.01, 0.  , 0.01, 0.04, 0.02, 0.02, 0.01,\n",
       "        0.01, 0.02, 0.01, 0.  , 0.  , 0.  , 0.01, 0.  , 0.01, 0.  , 0.  ,\n",
       "        0.  , 0.01, 0.  , 0.  , 0.  , 0.  , 0.  , 0.  , 0.01, 0.01, 0.  ,\n",
       "        0.  , 0.  , 0.  , 0.01, 0.  , 0.  , 0.  , 0.02, 0.01, 0.01, 0.02,\n",
       "        0.  , 0.01, 0.  , 0.01, 0.01, 0.  , 0.04, 0.  , 0.01, 0.  , 0.01,\n",
       "        0.  , 0.01, 0.  , 0.  , 0.01, 0.01, 0.01, 0.  , 0.  , 0.01, 0.01,\n",
       "        0.  , 0.  , 0.  , 0.01, 0.  , 0.01, 0.  , 0.01, 0.01, 0.03, 0.  ,\n",
       "        0.01, 0.  ],\n",
       "       [0.01, 0.01, 0.01, 0.02, 0.01, 0.  , 0.  , 0.  , 0.01, 0.  , 0.01,\n",
       "        0.01, 0.01, 0.01, 0.01, 0.01, 0.  , 0.  , 0.02, 0.03, 0.  , 0.03,\n",
       "        0.  , 0.11, 0.  , 0.01, 0.01, 0.03, 0.  , 0.  , 0.  , 0.01, 0.01,\n",
       "        0.  , 0.02, 0.  , 0.  , 0.01, 0.01, 0.02, 0.01, 0.  , 0.01, 0.  ,\n",
       "        0.  , 0.  , 0.  , 0.  , 0.01, 0.  , 0.  , 0.03, 0.  , 0.  , 0.  ,\n",
       "        0.01, 0.01, 0.  , 0.01, 0.  , 0.  , 0.  , 0.  , 0.  , 0.01, 0.01,\n",
       "        0.  , 0.  , 0.01, 0.01, 0.01, 0.  , 0.01, 0.01, 0.  , 0.  , 0.01,\n",
       "        0.  , 0.01, 0.01, 0.  , 0.  , 0.  , 0.02, 0.  , 0.  , 0.  , 0.03,\n",
       "        0.  , 0.02, 0.01, 0.  , 0.  , 0.01, 0.01, 0.01, 0.01, 0.  , 0.02,\n",
       "        0.  , 0.01, 0.01, 0.01, 0.  , 0.01, 0.01, 0.01, 0.01, 0.02, 0.  ,\n",
       "        0.  , 0.01, 0.02, 0.02, 0.03, 0.  , 0.01, 0.02, 0.01, 0.  , 0.  ,\n",
       "        0.  , 0.01]])"
      ]
     },
     "execution_count": 133,
     "metadata": {},
     "output_type": "execute_result"
    }
   ],
   "source": [
    "vg_np=venues_grouped.drop('City',axis=1).to_numpy()\n",
    "vg_np"
   ]
  },
  {
   "cell_type": "code",
   "execution_count": 135,
   "metadata": {},
   "outputs": [],
   "source": [
    "from scipy.spatial.distance import pdist"
   ]
  },
  {
   "cell_type": "markdown",
   "metadata": {},
   "source": [
    "Calculating the Euclidean distance of the data of New York and Paris to Toronto to determine which is more similar to Toronto:"
   ]
  },
  {
   "cell_type": "code",
   "execution_count": 158,
   "metadata": {},
   "outputs": [],
   "source": [
    "tor_ny_distance=pdist([vg_np[2],vg_np[0]],metric='euclidean')[0]\n",
    "tor_paris_distance=pdist([vg_np[2],vg_np[1]],metric='euclidean')[0]"
   ]
  },
  {
   "cell_type": "code",
   "execution_count": 159,
   "metadata": {},
   "outputs": [
    {
     "name": "stdout",
     "output_type": "stream",
     "text": [
      "Dissimilarity to New York: 0.1341640786499874 Dissimilarity to Paris: 0.19798989873223324\n"
     ]
    }
   ],
   "source": [
    "print('Dissimilarity to New York:',tor_ny_distance,'Dissimilarity to Paris:',tor_paris_distance)"
   ]
  },
  {
   "cell_type": "code",
   "execution_count": 163,
   "metadata": {},
   "outputs": [
    {
     "data": {
      "text/html": [
       "<div>\n",
       "<style scoped>\n",
       "    .dataframe tbody tr th:only-of-type {\n",
       "        vertical-align: middle;\n",
       "    }\n",
       "\n",
       "    .dataframe tbody tr th {\n",
       "        vertical-align: top;\n",
       "    }\n",
       "\n",
       "    .dataframe thead th {\n",
       "        text-align: right;\n",
       "    }\n",
       "</style>\n",
       "<table border=\"1\" class=\"dataframe\">\n",
       "  <thead>\n",
       "    <tr style=\"text-align: right;\">\n",
       "      <th></th>\n",
       "      <th>City</th>\n",
       "      <th>Dissimilarity From Toronto</th>\n",
       "    </tr>\n",
       "  </thead>\n",
       "  <tbody>\n",
       "    <tr>\n",
       "      <th>0</th>\n",
       "      <td>New York</td>\n",
       "      <td>0.134164</td>\n",
       "    </tr>\n",
       "    <tr>\n",
       "      <th>1</th>\n",
       "      <td>Paris</td>\n",
       "      <td>0.197990</td>\n",
       "    </tr>\n",
       "  </tbody>\n",
       "</table>\n",
       "</div>"
      ],
      "text/plain": [
       "       City  Dissimilarity From Toronto\n",
       "0  New York                    0.134164\n",
       "1     Paris                    0.197990"
      ]
     },
     "execution_count": 163,
     "metadata": {},
     "output_type": "execute_result"
    }
   ],
   "source": [
    "results=pd.DataFrame(columns=['City','Dissimilarity From Toronto'])\n",
    "results=results.append({'City':'New York','Dissimilarity From Toronto':tor_ny_distance},ignore_index=True)\n",
    "results=results.append({'City':'Paris','Dissimilarity From Toronto':tor_paris_distance},ignore_index=True)\n",
    "results"
   ]
  },
  {
   "cell_type": "markdown",
   "metadata": {},
   "source": [
    "It appears that New York is more similar to Toronto in the composition of its venues to Toronto."
   ]
  },
  {
   "cell_type": "markdown",
   "metadata": {},
   "source": [
    "## Results/discussion\n",
    "\n",
    "Using one-hot encoding, I created an index of venue composition using the top 100 venues retreived from Foursquare for Toronto, New York, and Paris. Using Euclidean distance, I determined that New York is more similar to Toronto in terms of Venue composition. This may mean that a successful business chain in Toronto will have greater chance of replicating its local success in New York than in Paris. However this approach was very basic and did not take into account many factors, such as the category of the business that is looking to expand, and the possibility that the dissimilarity would cause the business to be even more successful in Paris than in Toronto. The result of this analysis should therefore only be used to loosely guide the decision of a business in tandem with other field knowledge and analysis."
   ]
  },
  {
   "cell_type": "markdown",
   "metadata": {},
   "source": [
    "# Conclusion"
   ]
  },
  {
   "cell_type": "markdown",
   "metadata": {},
   "source": [
    "The purpose of this project was to determine whether a successful Toronto business should open locations in New York or in Paris based on the similarity of Venues found in the cities to those of Toronto. Because so many factors are potentially overlooked with this model and because it is built on the potentially faulty assumption that more similar venues are better, the final decision where to expand to should ultimately be made using much more detailed knowledge and analysis than that of this report. The similarity of venues should be but one factor taken into account when making the final decision."
   ]
  },
  {
   "cell_type": "code",
   "execution_count": null,
   "metadata": {},
   "outputs": [],
   "source": []
  }
 ],
 "metadata": {
  "kernelspec": {
   "display_name": "Python",
   "language": "python",
   "name": "conda-env-python-py"
  },
  "language_info": {
   "codemirror_mode": {
    "name": "ipython",
    "version": 3
   },
   "file_extension": ".py",
   "mimetype": "text/x-python",
   "name": "python",
   "nbconvert_exporter": "python",
   "pygments_lexer": "ipython3",
   "version": "3.6.10"
  }
 },
 "nbformat": 4,
 "nbformat_minor": 4
}
